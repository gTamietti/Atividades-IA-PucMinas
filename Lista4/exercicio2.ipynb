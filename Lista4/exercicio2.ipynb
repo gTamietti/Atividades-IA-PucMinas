{
 "cells": [
  {
   "cell_type": "code",
   "execution_count": 2,
   "metadata": {},
   "outputs": [],
   "source": [
    "import pandas as pd\n",
    "import numpy as np\n",
    "import matplotlib.pyplot as plt\n",
    "import seaborn as sns\n",
    "from sklearn.model_selection import train_test_split\n",
    "from sklearn.preprocessing import LabelEncoder\n",
    "from sklearn.tree import DecisionTreeClassifier\n",
    "from sklearn.ensemble import RandomForestClassifier\n",
    "from sklearn.metrics import classification_report\n",
    "from skopt import BayesSearchCV\n",
    "from imblearn.over_sampling import SMOTE\n",
    "from imblearn.under_sampling import TomekLinks, RandomUnderSampler"
   ]
  },
  {
   "cell_type": "code",
   "execution_count": 3,
   "metadata": {},
   "outputs": [],
   "source": [
    "\n",
    "df = pd.read_csv(\"titanic/train.csv\")\n"
   ]
  },
  {
   "cell_type": "code",
   "execution_count": 4,
   "metadata": {},
   "outputs": [
    {
     "name": "stderr",
     "output_type": "stream",
     "text": [
      "/tmp/ipykernel_10771/609572390.py:1: FutureWarning: A value is trying to be set on a copy of a DataFrame or Series through chained assignment using an inplace method.\n",
      "The behavior will change in pandas 3.0. This inplace method will never work because the intermediate object on which we are setting values always behaves as a copy.\n",
      "\n",
      "For example, when doing 'df[col].method(value, inplace=True)', try using 'df.method({col: value}, inplace=True)' or df[col] = df[col].method(value) instead, to perform the operation inplace on the original object.\n",
      "\n",
      "\n",
      "  df['Age'].fillna(df['Age'].median(), inplace=True)\n",
      "/tmp/ipykernel_10771/609572390.py:2: FutureWarning: A value is trying to be set on a copy of a DataFrame or Series through chained assignment using an inplace method.\n",
      "The behavior will change in pandas 3.0. This inplace method will never work because the intermediate object on which we are setting values always behaves as a copy.\n",
      "\n",
      "For example, when doing 'df[col].method(value, inplace=True)', try using 'df.method({col: value}, inplace=True)' or df[col] = df[col].method(value) instead, to perform the operation inplace on the original object.\n",
      "\n",
      "\n",
      "  df['Embarked'].fillna(df['Embarked'].mode()[0], inplace=True)\n"
     ]
    }
   ],
   "source": [
    "\n",
    "df['Age'].fillna(df['Age'].median(), inplace=True)\n",
    "df['Embarked'].fillna(df['Embarked'].mode()[0], inplace=True)\n",
    "df.drop(columns=['Cabin', 'Name', 'Ticket', 'PassengerId'], inplace=True)"
   ]
  },
  {
   "cell_type": "code",
   "execution_count": 5,
   "metadata": {},
   "outputs": [],
   "source": [
    "\n",
    "label_encoder = LabelEncoder()\n",
    "df['Sex'] = label_encoder.fit_transform(df['Sex'])\n",
    "df['Embarked'] = label_encoder.fit_transform(df['Embarked'])\n"
   ]
  },
  {
   "cell_type": "code",
   "execution_count": 6,
   "metadata": {},
   "outputs": [],
   "source": [
    "\n",
    "X = df.drop(columns=['Survived'])\n",
    "y = df['Survived']\n"
   ]
  },
  {
   "cell_type": "code",
   "execution_count": 7,
   "metadata": {},
   "outputs": [],
   "source": [
    "\n",
    "samplers = {\n",
    "    \"Original\": (X, y),\n",
    "    \"SMOTE\": SMOTE().fit_resample(X, y),\n",
    "    \"TomekLinks\": TomekLinks().fit_resample(X, y),\n",
    "    \"RandomUnderSampler\": RandomUnderSampler().fit_resample(X, y)\n",
    "}\n"
   ]
  },
  {
   "cell_type": "code",
   "execution_count": 8,
   "metadata": {},
   "outputs": [],
   "source": [
    "\n",
    "results = {}"
   ]
  },
  {
   "cell_type": "code",
   "execution_count": 9,
   "metadata": {},
   "outputs": [],
   "source": [
    "\n",
    "for method, (X_bal, y_bal) in samplers.items():\n",
    "    X_train, X_test, y_train, y_test = train_test_split(X_bal, y_bal, test_size=0.2, random_state=42)\n",
    "    \n",
    "    rf_search = BayesSearchCV(\n",
    "        RandomForestClassifier(random_state=42),\n",
    "        {\n",
    "            'n_estimators': (50, 300),\n",
    "            'max_depth': (1, 20),\n",
    "            'min_samples_split': (2, 20),\n",
    "            'min_samples_leaf': (1, 20)\n",
    "        },\n",
    "        n_iter=30, cv=5, n_jobs=-1, random_state=42\n",
    "    )\n",
    "    \n",
    "    rf_search.fit(X_train, y_train)\n",
    "    rf_best = rf_search.best_estimator_\n",
    "    rf_preds = rf_best.predict(X_test)\n",
    "    \n",
    "    results[method] = classification_report(y_test, rf_preds, output_dict=True)"
   ]
  },
  {
   "cell_type": "code",
   "execution_count": 10,
   "metadata": {},
   "outputs": [
    {
     "name": "stdout",
     "output_type": "stream",
     "text": [
      "\n",
      "Método: Original\n",
      "Precisão: 0.8230219351142041\n",
      "Recall: 0.8212290502793296\n",
      "F1-score: 0.8181737439049303\n",
      "\n",
      "Método: SMOTE\n",
      "Precisão: 0.8636363636363636\n",
      "Recall: 0.8636363636363636\n",
      "F1-score: 0.8636363636363636\n",
      "\n",
      "Método: TomekLinks\n",
      "Precisão: 0.880488186512283\n",
      "Recall: 0.8795180722891566\n",
      "F1-score: 0.877775251951201\n",
      "\n",
      "Método: RandomUnderSampler\n",
      "Precisão: 0.8102189781021898\n",
      "Recall: 0.8102189781021898\n",
      "F1-score: 0.8102189781021898\n"
     ]
    }
   ],
   "source": [
    "\n",
    "for method, metrics in results.items():\n",
    "    print(f\"\\nMétodo: {method}\")\n",
    "    print(\"Precisão:\", metrics['weighted avg']['precision'])\n",
    "    print(\"Recall:\", metrics['weighted avg']['recall'])\n",
    "    print(\"F1-score:\", metrics['weighted avg']['f1-score'])"
   ]
  }
 ],
 "metadata": {
  "kernelspec": {
   "display_name": "venv",
   "language": "python",
   "name": "python3"
  },
  "language_info": {
   "codemirror_mode": {
    "name": "ipython",
    "version": 3
   },
   "file_extension": ".py",
   "mimetype": "text/x-python",
   "name": "python",
   "nbconvert_exporter": "python",
   "pygments_lexer": "ipython3",
   "version": "3.10.12"
  }
 },
 "nbformat": 4,
 "nbformat_minor": 2
}
