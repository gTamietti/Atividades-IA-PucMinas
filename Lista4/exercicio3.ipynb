{
 "cells": [
  {
   "cell_type": "code",
   "execution_count": 1,
   "metadata": {},
   "outputs": [],
   "source": [
    "import pandas as pd\n",
    "import numpy as np\n",
    "import matplotlib.pyplot as plt\n",
    "import seaborn as sns\n",
    "from sklearn.model_selection import train_test_split\n",
    "from sklearn.preprocessing import LabelEncoder\n",
    "from sklearn.tree import DecisionTreeClassifier\n",
    "from sklearn.ensemble import RandomForestClassifier\n",
    "from sklearn.metrics import classification_report\n",
    "from skopt import BayesSearchCV\n",
    "from imblearn.over_sampling import SMOTE\n",
    "from imblearn.under_sampling import TomekLinks, RandomUnderSampler\n",
    "from sklearn.impute import SimpleImputer, KNNImputer"
   ]
  },
  {
   "cell_type": "code",
   "execution_count": 2,
   "metadata": {},
   "outputs": [],
   "source": [
    "df = pd.read_csv(\"titanic/train.csv\")"
   ]
  },
  {
   "cell_type": "code",
   "execution_count": 3,
   "metadata": {},
   "outputs": [],
   "source": [
    "imputation_methods = {\n",
    "    \"Média\": SimpleImputer(strategy='mean'),\n",
    "    \"Moda\": SimpleImputer(strategy='most_frequent'),\n",
    "    \"KNNImputer\": KNNImputer(n_neighbors=5)\n",
    "}"
   ]
  },
  {
   "cell_type": "code",
   "execution_count": 4,
   "metadata": {},
   "outputs": [],
   "source": [
    "results = {}"
   ]
  },
  {
   "cell_type": "code",
   "execution_count": 5,
   "metadata": {},
   "outputs": [],
   "source": [
    "for method_name, imputer in imputation_methods.items():\n",
    "    df_copy = df.copy()\n",
    "    df_copy.drop(columns=['Cabin', 'Name', 'Ticket', 'PassengerId'], inplace=True)\n",
    "    \n",
    "    df_copy[['Age']] = imputer.fit_transform(df_copy[['Age']])\n",
    "    df_copy[['Embarked']] = df_copy[['Embarked']].fillna(df_copy['Embarked'].mode()[0])\n",
    "\n",
    "    label_encoder = LabelEncoder()\n",
    "    df_copy['Sex'] = label_encoder.fit_transform(df_copy['Sex'])\n",
    "    df_copy['Embarked'] = label_encoder.fit_transform(df_copy['Embarked'])\n",
    "\n",
    "    X = df_copy.drop(columns=['Survived'])\n",
    "    y = df_copy['Survived']\n",
    "    X_train, X_test, y_train, y_test = train_test_split(X, y, test_size=0.2, random_state=42)\n",
    "\n",
    "    rf_search = BayesSearchCV(\n",
    "        RandomForestClassifier(random_state=42),\n",
    "        {\n",
    "            'n_estimators': (50, 300),\n",
    "            'max_depth': (1, 20),\n",
    "            'min_samples_split': (2, 20),\n",
    "            'min_samples_leaf': (1, 20)\n",
    "        },\n",
    "        n_iter=30, cv=5, n_jobs=-1, random_state=42\n",
    "    )\n",
    "\n",
    "    rf_search.fit(X_train, y_train)\n",
    "    rf_best = rf_search.best_estimator_\n",
    "    rf_preds = rf_best.predict(X_test)\n",
    "\n",
    "    results[method_name] = classification_report(y_test, rf_preds, output_dict=True)\n",
    "    "
   ]
  },
  {
   "cell_type": "code",
   "execution_count": 6,
   "metadata": {},
   "outputs": [
    {
     "name": "stdout",
     "output_type": "stream",
     "text": [
      "\n",
      "Método de Imputação: Média\n",
      "Precisão: 0.8324681531286563\n",
      "Recall: 0.8324022346368715\n",
      "F1-score: 0.8306889154103546\n",
      "\n",
      "Método de Imputação: Moda\n",
      "Precisão: 0.7987081005586593\n",
      "Recall: 0.7988826815642458\n",
      "F1-score: 0.7961666703468986\n",
      "\n",
      "Método de Imputação: KNNImputer\n",
      "Precisão: 0.8324681531286563\n",
      "Recall: 0.8324022346368715\n",
      "F1-score: 0.8306889154103546\n"
     ]
    }
   ],
   "source": [
    "for method_name, metrics in results.items():\n",
    "    print(f\"\\nMétodo de Imputação: {method_name}\")\n",
    "    print(\"Precisão:\", metrics['weighted avg']['precision'])\n",
    "    print(\"Recall:\", metrics['weighted avg']['recall'])\n",
    "    print(\"F1-score:\", metrics['weighted avg']['f1-score'])"
   ]
  }
 ],
 "metadata": {
  "kernelspec": {
   "display_name": "venv",
   "language": "python",
   "name": "python3"
  },
  "language_info": {
   "codemirror_mode": {
    "name": "ipython",
    "version": 3
   },
   "file_extension": ".py",
   "mimetype": "text/x-python",
   "name": "python",
   "nbconvert_exporter": "python",
   "pygments_lexer": "ipython3",
   "version": "3.10.12"
  }
 },
 "nbformat": 4,
 "nbformat_minor": 2
}
